#!/usr/bin/env python3
# -*- coding: utf-8 -*-
"""
Created on Wed Mar 19 10:26:57 2025

@author: esthermarc
"""

bonjour je m'appelle esther 